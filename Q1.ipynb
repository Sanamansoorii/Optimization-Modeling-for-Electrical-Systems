{
 "cells": [
  {
   "cell_type": "code",
   "execution_count": 10,
   "metadata": {},
   "outputs": [],
   "source": [
    "import pulp\n",
    "\n",
    "lp_problem = pulp.LpProblem(\"Minimize_Total_Cost\", pulp.LpMinimize)\n",
    "\n"
   ]
  },
  {
   "cell_type": "markdown",
   "metadata": {},
   "source": []
  },
  {
   "cell_type": "code",
   "execution_count": 11,
   "metadata": {},
   "outputs": [],
   "source": [
    "generators = [\"Type1\", \"Type2\", \"Type3\"]\n",
    "#hydro = [\"Type1\", \"Type2\"]\n",
    "periods = [\"Period1\", \"Period2\", \"Period3\", \"Period4\", \"Period5\"]\n",
    "\n",
    "\n",
    "periods_hours = [6, 3, 6, 3, 6]\n",
    "num_generators = {\"Type1\": 12, \"Type2\": 10, \"Type3\": 5}\n",
    "costs_above_min = {\"Type1\": 2, \"Type2\": 1.30, \"Type3\": 3}\n",
    "costs_min = {\"Type1\": 1000, \"Type2\": 2600, \"Type3\": 3000}\n",
    "startup_costs = {\"Type1\": 2000, \"Type2\": 1000, \"Type3\": 500}\n",
    "generator_limits = {\"Type1\": (850, 2000), \"Type2\": (1250, 1750), \"Type3\": (1500, 4000)}\n",
    "load_demands = {\"Period1\": 15000, \"Period2\": 30000, \"Period3\": 25000, \"Period4\": 40000, \"Period5\": 27000}\n",
    "\n",
    "# hyOpLevel = {'type1' : 900, 'type2' : 1400}  # Li is the operating level of hydro i.\n",
    "# hyCostPerHour = {'type1' : 90, 'type2' : 150}\n",
    "# hyStartCost = {'type1' : 1500, 'type2' : 1200}\n",
    "# hyDepthReductionPerHour = {'type1' : 0.31, 'type2' : 0.47}\n",
    "\n",
    "\n",
    "\n",
    "n = pulp.LpVariable.dicts(\"Count\", (generators, periods), lowBound=0, cat=pulp.LpInteger)\n",
    "s = pulp.LpVariable.dicts(\"StartUp\", (generators, periods), lowBound=0, cat=pulp.LpInteger)\n",
    "x = pulp.LpVariable.dicts(\"ElectricityProduced\", (generators, periods), lowBound=0, cat=\"Continuous\")\n",
    "# h = pulp.LpVariable.dicts(\"Hydro\", (hydro, periods), lowBound=0, cat=pulp.LpInteger)\n",
    "# t = pulp.LpVariable.dicts(\"HydroStart\", (generators, periods), lowBound=0, cat=pulp.LpBinary)\n",
    "# l = pulp.LpVariable.dicts(\"ReserviorHeight\", (periods), lowBound=0, cat=\"Continuous\")\n",
    "# p = pulp.LpVariable.dicts(\"PumpingCount\", (periods), lowBound=0, cat=pulp.LpInteger)\n",
    "\n",
    "\n",
    "\n"
   ]
  },
  {
   "cell_type": "code",
   "execution_count": 12,
   "metadata": {},
   "outputs": [],
   "source": [
    "\n",
    "\n",
    "#Demand must be met in each period:\n",
    "for per in periods:\n",
    "    lp_problem += pulp.lpSum(x[gen][per] for gen in generators) >= load_demands[per], f\"LoadDemand_{per}\"\n",
    " "
   ]
  },
  {
   "cell_type": "code",
   "execution_count": 13,
   "metadata": {},
   "outputs": [],
   "source": [
    "   \n",
    "#Output must lie within the limits of the generators working:\n",
    "for gen in generators:\n",
    "    for per in periods:\n",
    "        lp_problem += x[gen][per] >= n[gen][per] * generator_limits[gen][0] , f\"mn_{gen}_{per}\"\n",
    "        lp_problem += x[gen][per] <= n[gen][per] * generator_limits[gen][1] , f\"mx_{gen}_{per}\"\n",
    "#The extra guaranteed load requirement must be able to be met without starting up any more generators:\n",
    "reserve_factor = 1.15\n",
    "for per in periods:\n",
    "    lp_problem += pulp.lpSum(n[gen][per] * generator_limits[gen][1] for gen in generators) >= reserve_factor * load_demands[per], f\"ReseverDemand_{per}\"\n",
    "\n",
    "#The number of generators started in period j must equal the increase in number:\n",
    "for gen in generators:\n",
    "\n",
    "    for j in range(len(periods)):\n",
    "        per = periods[j]\n",
    "        prv_per = periods[(j-1)%len(periods)]\n",
    "        lp_problem += s[gen][per] >= n[gen][per] - n[gen][prv_per], f\"NumStartedGenerators_{gen}_{per}\"\n"
   ]
  },
  {
   "cell_type": "code",
   "execution_count": 14,
   "metadata": {},
   "outputs": [
    {
     "data": {
      "text/plain": [
       "1"
      ]
     },
     "execution_count": 14,
     "metadata": {},
     "output_type": "execute_result"
    }
   ],
   "source": [
    "   \n",
    "#In addition all the integer variables have simple upper bounds corresponding to the total number of generators of each type.\n",
    "for gen in generators:\n",
    "    for j in range(len(periods)):\n",
    "        lp_problem += n[gen][periods[j]] <= num_generators[gen], f\"NumGenerators_{gen}_{periods[j]}\"\n",
    "        lp_problem += s[gen][periods[j]] <= num_generators[gen]-n[gen][periods[(j-1)%len(periods)]], f\"StartedGenerators_{gen}_{periods[j]}\"\n",
    "\n",
    "\n",
    "#Objective Function (to be Minimized)\n",
    "#creat a simplevariable \n",
    "firstPart = pulp.lpSum(costs_above_min[gen] * periods_hours[periods.index(per)] * (x[gen][per] - generator_limits[gen][0] * n[gen][per]) for gen in generators for per in periods)\n",
    "secondPart = pulp.lpSum(costs_min[gen] * n[gen][per] * periods_hours[periods.index(per)] for gen in generators for per in periods)\n",
    "thirdPart = pulp.lpSum(startup_costs[gen] * s[gen][per] for gen in generators for per in periods)\n",
    "\n",
    "lp_problem += firstPart + secondPart + thirdPart, \"TotalCost\"\n",
    "# Solve the problem\n",
    "lp_problem.solve()\n"
   ]
  },
  {
   "cell_type": "code",
   "execution_count": 15,
   "metadata": {},
   "outputs": [
    {
     "data": {
      "text/plain": [
       "int"
      ]
     },
     "execution_count": 15,
     "metadata": {},
     "output_type": "execute_result"
    }
   ],
   "source": [
    "type( costs_above_min[gen]) "
   ]
  },
  {
   "cell_type": "code",
   "execution_count": 16,
   "metadata": {},
   "outputs": [],
   "source": [
    "# how to creat an equeation before adding it to the problem\n"
   ]
  },
  {
   "cell_type": "code",
   "execution_count": 17,
   "metadata": {},
   "outputs": [
    {
     "name": "stdout",
     "output_type": "stream",
     "text": [
      "Status: Optimal\n",
      "Total Cost: 988540.0 \n",
      "\n",
      "x Period1 - Type1: 10200.0\n",
      "x Period1 - Type2: 4800.0\n",
      "x Period1 - Type3: 0.0\n",
      "\n",
      "x Period2 - Type1: 16000.0\n",
      "x Period2 - Type2: 14000.0\n",
      "x Period2 - Type3: 0.0\n",
      "\n",
      "x Period3 - Type1: 11000.0\n",
      "x Period3 - Type2: 14000.0\n",
      "x Period3 - Type3: 0.0\n",
      "\n",
      "x Period4 - Type1: 21250.0\n",
      "x Period4 - Type2: 15750.0\n",
      "x Period4 - Type3: 3000.0\n",
      "\n",
      "x Period5 - Type1: 11250.0\n",
      "x Period5 - Type2: 15750.0\n",
      "x Period5 - Type3: 0.0\n",
      "\n",
      "s Period1 - Type1 Start-Up: 0.0\n",
      "s Period1 - Type2 Start-Up: 0.0\n",
      "s Period1 - Type3 Start-Up: 0.0\n",
      "\n",
      "s Period2 - Type1 Start-Up: 0.0\n",
      "s Period2 - Type2 Start-Up: 5.0\n",
      "s Period2 - Type3 Start-Up: 0.0\n",
      "\n",
      "s Period3 - Type1 Start-Up: 0.0\n",
      "s Period3 - Type2 Start-Up: 0.0\n",
      "s Period3 - Type3 Start-Up: 0.0\n",
      "\n",
      "s Period4 - Type1 Start-Up: 0.0\n",
      "s Period4 - Type2 Start-Up: 1.0\n",
      "s Period4 - Type3 Start-Up: 2.0\n",
      "\n",
      "s Period5 - Type1 Start-Up: 0.0\n",
      "s Period5 - Type2 Start-Up: 0.0\n",
      "s Period5 - Type3 Start-Up: 0.0\n",
      "\n",
      "n Period1 - Type1 Count: 12.0\n",
      "n Period1 - Type2 Count: 3.0\n",
      "n Period1 - Type3 Count: 0.0\n",
      "\n",
      "n Period2 - Type1 Count: 12.0\n",
      "n Period2 - Type2 Count: 8.0\n",
      "n Period2 - Type3 Count: 0.0\n",
      "\n",
      "n Period3 - Type1 Count: 12.0\n",
      "n Period3 - Type2 Count: 8.0\n",
      "n Period3 - Type3 Count: 0.0\n",
      "\n",
      "n Period4 - Type1 Count: 12.0\n",
      "n Period4 - Type2 Count: 9.0\n",
      "n Period4 - Type3 Count: 2.0\n",
      "\n",
      "n Period5 - Type1 Count: 12.0\n",
      "n Period5 - Type2 Count: 9.0\n",
      "n Period5 - Type3 Count: 0.0\n",
      "\n"
     ]
    }
   ],
   "source": [
    "\n",
    "print(\"Status:\", pulp.LpStatus[lp_problem.status])\n",
    "print(\"Total Cost:\", pulp.value(lp_problem.objective),\"\\n\")\n",
    "\n",
    "for per in periods:\n",
    "    for gen in generators:\n",
    "        print(f\"x {per} - {gen}: {pulp.value(x[gen][per])}\")\n",
    "    print(\"\")\n",
    "\n",
    "\n",
    "for per in periods:\n",
    "    for gen in generators:\n",
    "        print(f\"s {per} - {gen} Start-Up: {pulp.value(s[gen][per])}\")\n",
    "    print(\"\")\n",
    "\n",
    "\n",
    "for per in periods:\n",
    "    for gen in generators:\n",
    "        print(f\"n {per} - {gen} Count: {pulp.value(n[gen][per])}\")\n",
    "    print(\"\")"
   ]
  },
  {
   "cell_type": "code",
   "execution_count": null,
   "metadata": {},
   "outputs": [],
   "source": []
  }
 ],
 "metadata": {
  "kernelspec": {
   "display_name": "Python 3",
   "language": "python",
   "name": "python3"
  },
  "language_info": {
   "codemirror_mode": {
    "name": "ipython",
    "version": 3
   },
   "file_extension": ".py",
   "mimetype": "text/x-python",
   "name": "python",
   "nbconvert_exporter": "python",
   "pygments_lexer": "ipython3",
   "version": "3.10.4"
  }
 },
 "nbformat": 4,
 "nbformat_minor": 2
}
